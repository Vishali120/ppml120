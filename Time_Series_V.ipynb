{
  "nbformat": 4,
  "nbformat_minor": 0,
  "metadata": {
    "colab": {
      "provenance": []
    },
    "kernelspec": {
      "name": "python3",
      "display_name": "Python 3"
    },
    "language_info": {
      "name": "python"
    }
  },
  "cells": [
    {
      "cell_type": "code",
      "execution_count": 1,
      "metadata": {
        "colab": {
          "base_uri": "https://localhost:8080/"
        },
        "id": "chnASyPBk_iW",
        "outputId": "18b6be7f-9c6c-42f1-e0db-34b81b7962a4"
      },
      "outputs": [
        {
          "output_type": "stream",
          "name": "stdout",
          "text": [
            "\n",
            "With this date object, create a series with datetime index:\n",
            " 2020-01-05   -0.759601\n",
            "2020-01-10    0.326382\n",
            "2020-01-15    1.238708\n",
            "2020-01-20    0.436321\n",
            "2020-01-25    0.885397\n",
            "dtype: float64\n"
          ]
        }
      ],
      "source": [
        "import pandas as pd\n",
        "import numpy as np\n",
        "from datetime import datetime\n",
        "dates = [datetime(2020,1,5),\n",
        " datetime(2020,1,10),\n",
        " datetime(2020,1,15),\n",
        " datetime(2020,1,20),\n",
        " datetime(2020,1,25)]\n",
        "ts = pd.Series(np.random.randn(5), index=dates)\n",
        "print(\"\\nWith this date object, create a series with datetime index:\\n\",ts)"
      ]
    },
    {
      "cell_type": "code",
      "source": [
        "res=ts.truncate(after=\"1/15/2020\")\n",
        "print(\"\\nTruncate method to truncate datetime series \\n\", res)"
      ],
      "metadata": {
        "colab": {
          "base_uri": "https://localhost:8080/"
        },
        "id": "1LnnX4lPlHZK",
        "outputId": "d2205661-e468-4e33-c24b-1669932be3cb"
      },
      "execution_count": 2,
      "outputs": [
        {
          "output_type": "stream",
          "name": "stdout",
          "text": [
            "\n",
            "Truncate method to truncate datetime series \n",
            " 2020-01-05   -0.759601\n",
            "2020-01-10    0.326382\n",
            "2020-01-15    1.238708\n",
            "dtype: float64\n"
          ]
        }
      ]
    },
    {
      "cell_type": "code",
      "source": [
        "da=pd.date_range(\"10/1/2022\", periods=10, freq=\"W-SUN\")\n",
        "print(\"\\nDate range with day periods.\\n\",da)"
      ],
      "metadata": {
        "colab": {
          "base_uri": "https://localhost:8080/"
        },
        "id": "jfiJAPmLlHbe",
        "outputId": "19a248ff-3700-4c1d-b96e-9f010b084e02"
      },
      "execution_count": 3,
      "outputs": [
        {
          "output_type": "stream",
          "name": "stdout",
          "text": [
            "\n",
            "Date range with day periods.\n",
            " DatetimeIndex(['2022-10-02', '2022-10-09', '2022-10-16', '2022-10-23',\n",
            "               '2022-10-30', '2022-11-06', '2022-11-13', '2022-11-20',\n",
            "               '2022-11-27', '2022-12-04'],\n",
            "              dtype='datetime64[ns]', freq='W-SUN')\n"
          ]
        }
      ]
    },
    {
      "cell_type": "code",
      "source": [
        "date=pd.DatetimeIndex([\"1/1/2020\",\"1/2/2020\",\"1/2/2020\",\"1/2/2020\",\"1/3/2020\"])\n",
        "ts1=pd.Series(np.arange(5), index=date)\n",
        "print(\"\\nDuplicate datetime index:\\n\",ts1)"
      ],
      "metadata": {
        "colab": {
          "base_uri": "https://localhost:8080/"
        },
        "id": "fEtLHRrblHdz",
        "outputId": "a98408c0-44d8-4925-a949-d7d15f107f78"
      },
      "execution_count": 4,
      "outputs": [
        {
          "output_type": "stream",
          "name": "stdout",
          "text": [
            "\n",
            "Duplicate datetime index:\n",
            " 2020-01-01    0\n",
            "2020-01-02    1\n",
            "2020-01-02    2\n",
            "2020-01-02    3\n",
            "2020-01-03    4\n",
            "dtype: int64\n"
          ]
        }
      ]
    },
    {
      "cell_type": "code",
      "source": [
        "group=ts1.groupby(level=0)\n",
        "print(\"\\nRepeated date counts:\\n\",group.count())"
      ],
      "metadata": {
        "colab": {
          "base_uri": "https://localhost:8080/"
        },
        "id": "7EllQkonlHgK",
        "outputId": "ab355ca7-8043-4696-8696-6236884a195f"
      },
      "execution_count": 5,
      "outputs": [
        {
          "output_type": "stream",
          "name": "stdout",
          "text": [
            "\n",
            "Repeated date counts:\n",
            " 2020-01-01    1\n",
            "2020-01-02    3\n",
            "2020-01-03    1\n",
            "dtype: int64\n"
          ]
        }
      ]
    },
    {
      "cell_type": "code",
      "source": [
        "long_df=pd.DataFrame(np.random.randn(10,4),index=da,columns=list(\"ABCD\"))\n",
        "print(\"\\nMulti-column DataFrame with datatime index:\\n\",long_df)"
      ],
      "metadata": {
        "colab": {
          "base_uri": "https://localhost:8080/"
        },
        "id": "xkH5rluDlHiv",
        "outputId": "4a2f970d-9db6-45ed-8503-20ba928335e3"
      },
      "execution_count": 6,
      "outputs": [
        {
          "output_type": "stream",
          "name": "stdout",
          "text": [
            "\n",
            "Multi-column DataFrame with datatime index:\n",
            "                    A         B         C         D\n",
            "2022-10-02 -0.732619 -0.119162 -0.650897 -0.820752\n",
            "2022-10-09 -1.258524 -1.153866 -0.409818  0.808448\n",
            "2022-10-16  0.368627 -0.143564 -0.371365 -1.330430\n",
            "2022-10-23  0.060237 -1.027032  1.022649  1.319916\n",
            "2022-10-30  1.367822  1.108957  0.387983  1.272755\n",
            "2022-11-06 -0.227655 -0.956471 -0.498123  1.482296\n",
            "2022-11-13 -0.754592  0.246437 -0.086129 -0.371053\n",
            "2022-11-20  1.803132 -1.291155 -0.554798 -1.425593\n",
            "2022-11-27  0.816902 -0.536921 -1.763028  0.386985\n",
            "2022-12-04  0.493101 -0.635129 -1.094832  1.101206\n"
          ]
        }
      ]
    }
  ]
}