{
  "nbformat": 4,
  "nbformat_minor": 0,
  "metadata": {
    "colab": {
      "provenance": []
    },
    "kernelspec": {
      "name": "python3",
      "display_name": "Python 3"
    },
    "language_info": {
      "name": "python"
    }
  },
  "cells": [
    {
      "cell_type": "code",
      "execution_count": 1,
      "metadata": {
        "colab": {
          "base_uri": "https://localhost:8080/"
        },
        "id": "EQ3TzhEvgYHq",
        "outputId": "cbe548d1-35e1-4b86-e175-5ee7eaff741f"
      },
      "outputs": [
        {
          "output_type": "stream",
          "name": "stdout",
          "text": [
            "today-now function:  2025-04-21 04:02:08.946483\n"
          ]
        }
      ],
      "source": [
        "import datetime\n",
        "a=datetime.datetime.now()\n",
        "print(\"today-now function: \",a)"
      ]
    },
    {
      "cell_type": "code",
      "source": [
        "today=datetime.datetime.today()\n",
        "print(\"\\ntoday: \",today)"
      ],
      "metadata": {
        "colab": {
          "base_uri": "https://localhost:8080/"
        },
        "id": "PmW0hhregjbp",
        "outputId": "65ce05ab-2c50-4c0c-8e78-4ac6571e0a5c"
      },
      "execution_count": 2,
      "outputs": [
        {
          "output_type": "stream",
          "name": "stdout",
          "text": [
            "\n",
            "today:  2025-04-21 04:02:09.683619\n"
          ]
        }
      ]
    },
    {
      "cell_type": "code",
      "source": [
        "tomorrow=today+datetime.timedelta(days=3)\n",
        "print(\"\\ntomorrow:\",tomorrow)"
      ],
      "metadata": {
        "colab": {
          "base_uri": "https://localhost:8080/"
        },
        "id": "OpO_nd_vgnev",
        "outputId": "1f5589c9-03ae-4877-f110-3123fb580b5b"
      },
      "execution_count": 3,
      "outputs": [
        {
          "output_type": "stream",
          "name": "stdout",
          "text": [
            "\n",
            "tomorrow: 2025-04-24 04:02:09.683619\n"
          ]
        }
      ]
    },
    {
      "cell_type": "code",
      "source": [
        "yesterday=today-datetime.timedelta(days=2)\n",
        "print(\"\\nyesterday: \",yesterday)"
      ],
      "metadata": {
        "colab": {
          "base_uri": "https://localhost:8080/"
        },
        "id": "aRm7tghzgqrs",
        "outputId": "544ea738-77bb-4e3c-f81e-1fb19817ddaa"
      },
      "execution_count": 4,
      "outputs": [
        {
          "output_type": "stream",
          "name": "stdout",
          "text": [
            "\n",
            "yesterday:  2025-04-19 04:02:09.683619\n"
          ]
        }
      ]
    },
    {
      "cell_type": "code",
      "source": [
        "a=datetime.datetime.now()\n",
        "b=datetime.datetime(2020,6,8,23,10,25,404040)\n",
        "print(\"\\ndate format [2020,6,8,23,10,25,404040): \",b)"
      ],
      "metadata": {
        "colab": {
          "base_uri": "https://localhost:8080/"
        },
        "id": "3gD52QEggxKt",
        "outputId": "4a6a8d2f-4370-4286-cd13-ff5c60965bc1"
      },
      "execution_count": 5,
      "outputs": [
        {
          "output_type": "stream",
          "name": "stdout",
          "text": [
            "\n",
            "date format [2020,6,8,23,10,25,404040):  2020-06-08 23:10:25.404040\n"
          ]
        }
      ]
    },
    {
      "cell_type": "code",
      "source": [
        "from datetime import date\n",
        "d=date(2024, 12, 31)\n",
        "print(\"\\nReplacing date\",d,d.replace(day=15))"
      ],
      "metadata": {
        "colab": {
          "base_uri": "https://localhost:8080/"
        },
        "id": "H26nx0jRgzfb",
        "outputId": "7a1d270a-40d1-4c57-d53b-c153ac03f3ea"
      },
      "execution_count": 6,
      "outputs": [
        {
          "output_type": "stream",
          "name": "stdout",
          "text": [
            "\n",
            "Replacing date 2024-12-31 2024-12-15\n"
          ]
        }
      ]
    },
    {
      "cell_type": "code",
      "source": [
        "t=date(2004,4,17)\n",
        "d=date(2004,4,17).ctime()\n",
        "print(\"\\nDay and Month:\",t,d)"
      ],
      "metadata": {
        "colab": {
          "base_uri": "https://localhost:8080/"
        },
        "id": "Xam9wriIg3M8",
        "outputId": "a2736ed5-f3ec-467c-8f59-4fbec7f36866"
      },
      "execution_count": 7,
      "outputs": [
        {
          "output_type": "stream",
          "name": "stdout",
          "text": [
            "\n",
            "Day and Month: 2004-04-17 Sat Apr 17 00:00:00 2004\n"
          ]
        }
      ]
    },
    {
      "cell_type": "code",
      "source": [
        "today=date.today()\n",
        "print(\"\\nToday:\",today)\n",
        "print(\"Current year:\", today.year)\n",
        "print(\"Current month:\", today.month)\n",
        "print(\"Current day:\",today.day)"
      ],
      "metadata": {
        "colab": {
          "base_uri": "https://localhost:8080/"
        },
        "id": "p0KgaBHLg5-n",
        "outputId": "fe1dc23a-0548-4645-8ee7-f0f96873ef42"
      },
      "execution_count": 8,
      "outputs": [
        {
          "output_type": "stream",
          "name": "stdout",
          "text": [
            "\n",
            "Today: 2025-04-21\n",
            "Current year: 2025\n",
            "Current month: 4\n",
            "Current day: 21\n"
          ]
        }
      ]
    }
  ]
}