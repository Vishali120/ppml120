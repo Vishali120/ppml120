{
  "nbformat": 4,
  "nbformat_minor": 0,
  "metadata": {
    "colab": {
      "provenance": []
    },
    "kernelspec": {
      "name": "python3",
      "display_name": "Python 3"
    },
    "language_info": {
      "name": "python"
    }
  },
  "cells": [
    {
      "cell_type": "code",
      "execution_count": 4,
      "metadata": {
        "colab": {
          "base_uri": "https://localhost:8080/"
        },
        "id": "sqKB0tYai4h5",
        "outputId": "84c7edaf-0190-4d66-b5ac-f482806129b7"
      },
      "outputs": [
        {
          "output_type": "stream",
          "name": "stdout",
          "text": [
            "Date Index \n",
            " 2011-01-02    0.088560\n",
            "2011-01-05   -0.022074\n",
            "2011-01-07   -0.328739\n",
            "2011-01-08   -0.340153\n",
            "2011-01-10   -0.437422\n",
            "2011-01-12    0.058343\n",
            "dtype: float64\n"
          ]
        }
      ],
      "source": [
        "import pandas as pd\n",
        "import numpy as np\n",
        "from datetime import datetime\n",
        "dates = [datetime(2011, 1, 2),\n",
        " datetime(2011, 1, 5),\n",
        " datetime(2011, 1, 7),\n",
        " datetime(2011, 1, 8),\n",
        " datetime(2011, 1, 10),\n",
        " datetime(2011, 1, 12)]\n",
        "ts = pd.Series(np.random.randn(6), index=dates)\n",
        "print(\"Date Index \\n\",ts)"
      ]
    },
    {
      "cell_type": "code",
      "source": [
        "print(\"\\nDate Index alone from the series: \\n\",ts.index)"
      ],
      "metadata": {
        "colab": {
          "base_uri": "https://localhost:8080/"
        },
        "id": "7GyjEt7Ri6Ol",
        "outputId": "f5a9b5ed-0f88-4f30-ec07-fa51cdc62a6e"
      },
      "execution_count": 5,
      "outputs": [
        {
          "output_type": "stream",
          "name": "stdout",
          "text": [
            "\n",
            "Date Index alone from the series: \n",
            " DatetimeIndex(['2011-01-02', '2011-01-05', '2011-01-07', '2011-01-08',\n",
            "               '2011-01-10', '2011-01-12'],\n",
            "              dtype='datetime64[ns]', freq=None)\n"
          ]
        }
      ]
    },
    {
      "cell_type": "code",
      "source": [
        "stamp=ts.index[2]\n",
        "print(\"\\nSecond index:\\n\", stamp)"
      ],
      "metadata": {
        "colab": {
          "base_uri": "https://localhost:8080/"
        },
        "id": "IiOM22wLi6dE",
        "outputId": "4344514f-6453-4ee0-a3a4-c600ef2f0130"
      },
      "execution_count": 6,
      "outputs": [
        {
          "output_type": "stream",
          "name": "stdout",
          "text": [
            "\n",
            "Second index:\n",
            " 2011-01-07 00:00:00\n"
          ]
        }
      ]
    },
    {
      "cell_type": "code",
      "source": [
        "longer_ts=pd.Series(np.random.randn(1000),\n",
        " index=pd.date_range(\"2000-01-01\",periods=1000))\n",
        "print(\"\\nDaterange up to 1000 days:\\n\",longer_ts)"
      ],
      "metadata": {
        "colab": {
          "base_uri": "https://localhost:8080/"
        },
        "id": "hNHuttMTi6rx",
        "outputId": "bdf77eb4-9606-4c9e-cd6d-ca8bbc19a416"
      },
      "execution_count": 7,
      "outputs": [
        {
          "output_type": "stream",
          "name": "stdout",
          "text": [
            "\n",
            "Daterange up to 1000 days:\n",
            " 2000-01-01   -1.687441\n",
            "2000-01-02    0.640640\n",
            "2000-01-03    0.043177\n",
            "2000-01-04    0.135795\n",
            "2000-01-05   -0.049431\n",
            "                ...   \n",
            "2002-09-22    1.159973\n",
            "2002-09-23    2.054532\n",
            "2002-09-24   -0.471061\n",
            "2002-09-25   -0.887719\n",
            "2002-09-26   -1.082424\n",
            "Freq: D, Length: 1000, dtype: float64\n"
          ]
        }
      ]
    },
    {
      "cell_type": "code",
      "source": [
        "print(\"\\nDate range-2001 year:\\n\", longer_ts[\"2001\"])"
      ],
      "metadata": {
        "colab": {
          "base_uri": "https://localhost:8080/"
        },
        "id": "2icTIwZyi7Id",
        "outputId": "1f102f24-abf1-4b76-f44f-dd0ee0b070db"
      },
      "execution_count": 8,
      "outputs": [
        {
          "output_type": "stream",
          "name": "stdout",
          "text": [
            "\n",
            "Date range-2001 year:\n",
            " 2001-01-01    1.592717\n",
            "2001-01-02   -0.318007\n",
            "2001-01-03    0.109482\n",
            "2001-01-04    0.963386\n",
            "2001-01-05    0.176688\n",
            "                ...   \n",
            "2001-12-27    1.438542\n",
            "2001-12-28    1.790545\n",
            "2001-12-29   -0.752739\n",
            "2001-12-30   -0.882187\n",
            "2001-12-31   -0.306856\n",
            "Freq: D, Length: 365, dtype: float64\n"
          ]
        }
      ]
    },
    {
      "cell_type": "code",
      "source": [
        "print(\"\\nDate range-05 month 2001 year:\\n\", longer_ts[\"2001-05\"])"
      ],
      "metadata": {
        "colab": {
          "base_uri": "https://localhost:8080/"
        },
        "id": "H5BcDS5Bi7Pt",
        "outputId": "06f1b108-3363-4149-888c-127078d311c9"
      },
      "execution_count": 9,
      "outputs": [
        {
          "output_type": "stream",
          "name": "stdout",
          "text": [
            "\n",
            "Date range-05 month 2001 year:\n",
            " 2001-05-01   -1.179925\n",
            "2001-05-02   -0.724027\n",
            "2001-05-03    0.230836\n",
            "2001-05-04   -0.309578\n",
            "2001-05-05    2.340250\n",
            "2001-05-06    1.402318\n",
            "2001-05-07   -1.692121\n",
            "2001-05-08    0.602239\n",
            "2001-05-09   -0.534550\n",
            "2001-05-10    1.297135\n",
            "2001-05-11    0.299955\n",
            "2001-05-12   -0.509945\n",
            "2001-05-13   -0.425670\n",
            "2001-05-14   -0.569105\n",
            "2001-05-15   -1.135769\n",
            "2001-05-16    0.659502\n",
            "2001-05-17   -0.277863\n",
            "2001-05-18    0.229033\n",
            "2001-05-19   -0.400613\n",
            "2001-05-20    0.150588\n",
            "2001-05-21   -0.802402\n",
            "2001-05-22    0.296070\n",
            "2001-05-23   -0.958321\n",
            "2001-05-24   -0.115109\n",
            "2001-05-25    0.712246\n",
            "2001-05-26   -1.688891\n",
            "2001-05-27   -0.362485\n",
            "2001-05-28   -2.156349\n",
            "2001-05-29    1.053932\n",
            "2001-05-30    1.013495\n",
            "2001-05-31    0.947016\n",
            "Freq: D, dtype: float64\n"
          ]
        }
      ]
    },
    {
      "cell_type": "code",
      "source": [
        "print(\"\\nDate range-first few dates in 2000 year:\\n\",longer_ts[\"2000\"].head())"
      ],
      "metadata": {
        "colab": {
          "base_uri": "https://localhost:8080/"
        },
        "id": "sCbyFQthi7VV",
        "outputId": "5cbc581b-f93d-4137-c6e4-f519e8876703"
      },
      "execution_count": 10,
      "outputs": [
        {
          "output_type": "stream",
          "name": "stdout",
          "text": [
            "\n",
            "Date range-first few dates in 2000 year:\n",
            " 2000-01-01   -1.687441\n",
            "2000-01-02    0.640640\n",
            "2000-01-03    0.043177\n",
            "2000-01-04    0.135795\n",
            "2000-01-05   -0.049431\n",
            "Freq: D, dtype: float64\n"
          ]
        }
      ]
    },
    {
      "cell_type": "code",
      "source": [
        "print(\"\\nDate range-first 15 dates in 02 month 2001 year:\\n\",longer_ts[\"2000-02\"].head(15))"
      ],
      "metadata": {
        "colab": {
          "base_uri": "https://localhost:8080/"
        },
        "id": "KhSepnFyi7X_",
        "outputId": "b2f87544-fac4-44d3-93b9-32dca726e0d4"
      },
      "execution_count": 11,
      "outputs": [
        {
          "output_type": "stream",
          "name": "stdout",
          "text": [
            "\n",
            "Date range-first 15 dates in 02 month 2001 year:\n",
            " 2000-02-01   -0.580612\n",
            "2000-02-02   -0.739936\n",
            "2000-02-03    0.292774\n",
            "2000-02-04    1.426832\n",
            "2000-02-05   -0.788350\n",
            "2000-02-06   -0.095334\n",
            "2000-02-07   -0.802581\n",
            "2000-02-08   -0.223627\n",
            "2000-02-09   -0.351331\n",
            "2000-02-10   -0.747053\n",
            "2000-02-11    0.594686\n",
            "2000-02-12   -0.183086\n",
            "2000-02-13    0.430384\n",
            "2000-02-14    0.079313\n",
            "2000-02-15    1.168585\n",
            "Freq: D, dtype: float64\n"
          ]
        }
      ]
    },
    {
      "cell_type": "code",
      "source": [
        "print(\"\\nDate range-rom 26-9-2001:\\n\",longer_ts[datetime(2000,9,26):])"
      ],
      "metadata": {
        "colab": {
          "base_uri": "https://localhost:8080/"
        },
        "id": "Uef3kZfqi7aw",
        "outputId": "b28761f8-5aef-4136-e966-241e8e5747c7"
      },
      "execution_count": 12,
      "outputs": [
        {
          "output_type": "stream",
          "name": "stdout",
          "text": [
            "\n",
            "Date range-rom 26-9-2001:\n",
            " 2000-09-26   -2.584950\n",
            "2000-09-27   -0.884222\n",
            "2000-09-28   -0.985499\n",
            "2000-09-29   -1.503955\n",
            "2000-09-30    1.279132\n",
            "                ...   \n",
            "2002-09-22    1.159973\n",
            "2002-09-23    2.054532\n",
            "2002-09-24   -0.471061\n",
            "2002-09-25   -0.887719\n",
            "2002-09-26   -1.082424\n",
            "Freq: D, Length: 731, dtype: float64\n"
          ]
        }
      ]
    },
    {
      "cell_type": "code",
      "source": [
        "print(\"\\nDate range from 26-9-2001 to 25-9- 2002:\\n\",longer_ts[datetime(2001,9,26):datetime(2002,9,25)])"
      ],
      "metadata": {
        "colab": {
          "base_uri": "https://localhost:8080/"
        },
        "id": "CsHLqIKEi7dg",
        "outputId": "93d886f3-10c8-4c38-b56f-98db84f7843d"
      },
      "execution_count": 13,
      "outputs": [
        {
          "output_type": "stream",
          "name": "stdout",
          "text": [
            "\n",
            "Date range from 26-9-2001 to 25-9- 2002:\n",
            " 2001-09-26   -0.789578\n",
            "2001-09-27   -0.415399\n",
            "2001-09-28   -1.500700\n",
            "2001-09-29    0.527504\n",
            "2001-09-30    0.830227\n",
            "                ...   \n",
            "2002-09-21   -1.271854\n",
            "2002-09-22    1.159973\n",
            "2002-09-23    2.054532\n",
            "2002-09-24   -0.471061\n",
            "2002-09-25   -0.887719\n",
            "Freq: D, Length: 365, dtype: float64\n"
          ]
        }
      ]
    }
  ]
}