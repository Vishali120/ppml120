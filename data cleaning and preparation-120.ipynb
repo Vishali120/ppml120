{
 "cells": [
  {
   "cell_type": "code",
   "execution_count": 5,
   "id": "a6077dc4-3ab7-4c50-961a-667f171f296b",
   "metadata": {},
   "outputs": [
    {
     "name": "stdout",
     "output_type": "stream",
     "text": [
      "Original DataFrame with NaN\n",
      "         One       Two     Three\n",
      "a  0.359789  0.391371  0.498952\n",
      "b       NaN       NaN       NaN\n",
      "c  0.511201 -1.168997  0.193553\n",
      "d  0.987620 -0.495414 -1.436663\n",
      "e       NaN       NaN       NaN\n",
      "f  0.595294  1.535547 -0.291197\n",
      "\n",
      "\n",
      "Dropped DataFrame\n",
      "         One       Two     Three\n",
      "a  0.359789  0.391371  0.498952\n",
      "c  0.511201 -1.168997  0.193553\n",
      "d  0.987620 -0.495414 -1.436663\n",
      "f  0.595294  1.535547 -0.291197\n",
      "\n",
      "\n"
     ]
    }
   ],
   "source": [
    "import pandas as pd\n",
    "import numpy as np\n",
    "df=pd.DataFrame(np.random.randn(4,3),index=['a','c','d','f'],\n",
    "                columns=['One','Two','Three'])\n",
    "df=df.reindex(['a','b','c','d','e','f'])\n",
    "print(\"Original DataFrame with NaN\\n\",df)\n",
    "print(\"\\n\")\n",
    "print(\"Dropped DataFrame\\n\",df.dropna())\n",
    "print(\"\\n\")"
   ]
  },
  {
   "cell_type": "code",
   "execution_count": 7,
   "id": "1ff210f6-3b8c-448b-8d79-f5d938ea2b57",
   "metadata": {},
   "outputs": [
    {
     "name": "stdout",
     "output_type": "stream",
     "text": [
      "Original DataFrame with NaN\n",
      "        One       Two     Three\n",
      "a -0.18470 -1.168001  0.848160\n",
      "b      NaN       NaN       NaN\n",
      "c  1.31665  0.036853 -0.471093\n",
      "\n",
      "\n",
      "Dropped DataFrame\n",
      "        One       Two     Three\n",
      "a -0.18470 -1.168001  0.848160\n",
      "b  0.00000  0.000000  0.000000\n",
      "c  1.31665  0.036853 -0.471093\n",
      "\n",
      "\n"
     ]
    }
   ],
   "source": [
    "import pandas as pd\n",
    "import numpy as np\n",
    "df=pd.DataFrame(np.random.randn(4,3),index=['a','c','d','f'],\n",
    "                columns=['One','Two','Three'])\n",
    "df=df.reindex(['a','b','c'])\n",
    "print(\"Original DataFrame with NaN\\n\",df)\n",
    "print(\"\\n\")\n",
    "print(\"Dropped DataFrame\\n\",df.fillna(0))\n",
    "print(\"\\n\")"
   ]
  },
  {
   "cell_type": "code",
   "execution_count": 15,
   "id": "f374f440-f56c-42b1-a555-13aec9c6f164",
   "metadata": {},
   "outputs": [
    {
     "name": "stdout",
     "output_type": "stream",
     "text": [
      "Original DataFrame:\n",
      "    one  two\n",
      "0   10   60\n",
      "1   20   70\n",
      "2   30   80\n",
      "3   40    0\n",
      "4   50   10\n",
      "\n",
      " DataFrame with replaced values:\n",
      "\n",
      "   one  two\n",
      "0    5   60\n",
      "1   20   70\n",
      "2   30    3\n",
      "3   40    0\n",
      "4   50    5\n"
     ]
    }
   ],
   "source": [
    "df=pd.DataFrame({'one':[10,20,30,40,50],\n",
    "                'two':[60,70,80,0,10]})\n",
    "print(\"Original DataFrame:\\n\",df)\n",
    "print(\"\\n DataFrame with replaced values:\\n\")\n",
    "print(df.replace({10:5,80:3}))"
   ]
  },
  {
   "cell_type": "code",
   "execution_count": 29,
   "id": "40ee69f6-a4eb-4a08-8e65-16cf04a78e41",
   "metadata": {},
   "outputs": [
    {
     "name": "stdout",
     "output_type": "stream",
     "text": [
      "Original DataFrame:\n",
      "         One       Two     Three\n",
      "a  0.432479 -0.741605 -0.182889\n",
      "b       NaN       NaN       NaN\n",
      "c  0.727601 -0.822742  0.533542\n",
      "d -0.379321 -0.277088  0.155611\n",
      "e       NaN       NaN       NaN\n",
      "f -0.455819  1.890482  0.485583\n",
      "\n",
      " NaN-with True fill:\n",
      "\n",
      "a    False\n",
      "b     True\n",
      "c    False\n",
      "d    False\n",
      "e     True\n",
      "f    False\n",
      "Name: One, dtype: bool\n"
     ]
    }
   ],
   "source": [
    "df=pd.DataFrame(np.random.randn(4,3),index=['a','c','d','f'],\n",
    "                columns=['One','Two','Three'])\n",
    "df=df.reindex(['a','b','c','d','e','f'])\n",
    "print(\"Original DataFrame:\\n\",df)\n",
    "print(\"\\n NaN-with True fill:\\n\")\n",
    "print(df['One'].isnull())"
   ]
  },
  {
   "cell_type": "code",
   "execution_count": 33,
   "id": "d195713a-a032-47d4-a507-f9ef48badfdd",
   "metadata": {},
   "outputs": [
    {
     "name": "stdout",
     "output_type": "stream",
     "text": [
      "\n",
      " NaN filled with Background values:\n",
      "\n",
      "        One       Two     Three\n",
      "a  0.432479 -0.741605 -0.182889\n",
      "b  0.727601 -0.822742  0.533542\n",
      "c  0.727601 -0.822742  0.533542\n",
      "d -0.379321 -0.277088  0.155611\n",
      "e -0.455819  1.890482  0.485583\n",
      "f -0.455819  1.890482  0.485583\n"
     ]
    }
   ],
   "source": [
    "print(\"\\n NaN filled with Background values:\\n\")\n",
    "print(df.bfill())"
   ]
  },
  {
   "cell_type": "code",
   "execution_count": null,
   "id": "5ea00498-25d4-4266-a5ea-285d4a84ba06",
   "metadata": {},
   "outputs": [],
   "source": []
  }
 ],
 "metadata": {
  "kernelspec": {
   "display_name": "Python 3 (ipykernel)",
   "language": "python",
   "name": "python3"
  },
  "language_info": {
   "codemirror_mode": {
    "name": "ipython",
    "version": 3
   },
   "file_extension": ".py",
   "mimetype": "text/x-python",
   "name": "python",
   "nbconvert_exporter": "python",
   "pygments_lexer": "ipython3",
   "version": "3.12.4"
  }
 },
 "nbformat": 4,
 "nbformat_minor": 5
}
