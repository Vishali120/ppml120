{
 "cells": [
  {
   "cell_type": "code",
   "execution_count": 8,
   "id": "2aae1a35",
   "metadata": {},
   "outputs": [
    {
     "name": "stdout",
     "output_type": "stream",
     "text": [
      "\n",
      " original dataframe:\n",
      "       Name Category  Value  Score\n",
      "0    Alice        A      3     95\n",
      "1      Bob        B      4     95\n",
      "2  Charlie        C      2     91\n",
      "3    Alice        A      1     67\n",
      "4      Bob        B      2     81\n",
      "5  Charlie        C      3     95\n",
      "\n",
      " group and aggregate with one column\n",
      "       Name  Value\n",
      "0    Alice      4\n",
      "1      Bob      6\n",
      "2  Charlie      5\n"
     ]
    }
   ],
   "source": [
    "import numpy as np\n",
    "import pandas as pd\n",
    "df=pd.DataFrame({'Name':['Alice','Bob','Charlie','Alice','Bob','Charlie'],\n",
    "                 'Category':['A','B','C','A','B','C'],\n",
    "                 'Value':np.random.randint(1,5,size=6),\n",
    "                 'Score':np.random.randint(60,100,size=6)})\n",
    "print('\\n original dataframe:\\n',df)\n",
    "df1=df.groupby(('Name'),as_index=False)['Value'].sum()\n",
    "print('\\n group and aggregate with one column\\n',df1)"
   ]
  },
  {
   "cell_type": "code",
   "execution_count": 11,
   "id": "ce88abe4",
   "metadata": {},
   "outputs": [
    {
     "name": "stdout",
     "output_type": "stream",
     "text": [
      "\n",
      " Group and Aggregate with two column sum:\n",
      "       Name  Value  Score\n",
      "0    Alice      4    162\n",
      "1      Bob      6    176\n",
      "2  Charlie      5    186\n"
     ]
    }
   ],
   "source": [
    "df2=df.groupby(('Name'),as_index=False)[['Value','Score']].sum()\n",
    "print('\\n Group and Aggregate with two column sum:\\n',df2)"
   ]
  },
  {
   "cell_type": "code",
   "execution_count": 14,
   "id": "0a25c9ff",
   "metadata": {},
   "outputs": [
    {
     "name": "stdout",
     "output_type": "stream",
     "text": [
      "\n",
      " group and aggregate with one column\n",
      "       Name  Value\n",
      "0    Alice      4\n",
      "1      Bob      6\n",
      "2  Charlie      5\n"
     ]
    }
   ],
   "source": [
    "df1=df.groupby(('Name'),as_index=False)['Value'].agg(sum)\n",
    "print('\\n group and aggregate with one column\\n',df1)"
   ]
  },
  {
   "cell_type": "code",
   "execution_count": 15,
   "id": "e68dd493",
   "metadata": {},
   "outputs": [
    {
     "name": "stdout",
     "output_type": "stream",
     "text": [
      "\n",
      " Group by name and multiple aggregation:\n",
      "         Value              Score      \n",
      "          sum mean max min   sum  mean\n",
      "Name                                  \n",
      "Alice       4  2.0   3   1   162  81.0\n",
      "Bob         6  3.0   4   2   176  88.0\n",
      "Charlie     5  2.5   3   2   186  93.0\n"
     ]
    }
   ],
   "source": [
    "df3=df.groupby('Name').agg({'Value':['sum','mean','max','min'],\n",
    "                           'Score':['sum','mean']})\n",
    "print('\\n Group by name and multiple aggregation:\\n',df3)"
   ]
  },
  {
   "cell_type": "code",
   "execution_count": 16,
   "id": "9278dfa6",
   "metadata": {},
   "outputs": [
    {
     "name": "stdout",
     "output_type": "stream",
     "text": [
      "\n",
      " group and count:\n",
      "       Name  Value\n",
      "0    Alice      2\n",
      "1      Bob      2\n",
      "2  Charlie      2\n"
     ]
    }
   ],
   "source": [
    "df4=df.groupby(('Name'),as_index=False)['Value'].count()\n",
    "print('\\n group and count:\\n',df4)"
   ]
  },
  {
   "cell_type": "code",
   "execution_count": 21,
   "id": "d9ea5a75",
   "metadata": {},
   "outputs": [
    {
     "name": "stdout",
     "output_type": "stream",
     "text": [
      "\n",
      " group and count:\n",
      "          Category  Value  Score\n",
      "Name                           \n",
      "Alice           2      2      2\n",
      "Bob             2      2      2\n",
      "Charlie         2      2      2\n"
     ]
    }
   ],
   "source": [
    "df5=df.groupby(('Name')).count()\n",
    "print('\\n group and count:\\n',df5)"
   ]
  },
  {
   "cell_type": "code",
   "execution_count": 20,
   "id": "b2ed6c5b",
   "metadata": {},
   "outputs": [
    {
     "name": "stdout",
     "output_type": "stream",
     "text": [
      "\n",
      " group and display by first:\n",
      "       Name  Value\n",
      "0    Alice      3\n",
      "1      Bob      4\n",
      "2  Charlie      2\n"
     ]
    }
   ],
   "source": [
    "df6=df.groupby(('Name'),as_index=False)['Value'].first()\n",
    "print('\\n group and display by first:\\n',df6)"
   ]
  },
  {
   "cell_type": "code",
   "execution_count": 23,
   "id": "0b467304",
   "metadata": {},
   "outputs": [
    {
     "name": "stdout",
     "output_type": "stream",
     "text": [
      "\n",
      " group and display by first:\n",
      "         Category  Value  Score\n",
      "Name                          \n",
      "Alice          A      3     95\n",
      "Bob            B      4     95\n",
      "Charlie        C      2     91\n"
     ]
    }
   ],
   "source": [
    "df5=df.groupby(('Name')).first()\n",
    "print('\\n group and display by first:\\n',df5)"
   ]
  },
  {
   "cell_type": "code",
   "execution_count": 24,
   "id": "d1028f3f",
   "metadata": {},
   "outputs": [
    {
     "name": "stdout",
     "output_type": "stream",
     "text": [
      "\n",
      " group and display by first:\n",
      "       Name  Value\n",
      "0    Alice      1\n",
      "1      Bob      2\n",
      "2  Charlie      3\n"
     ]
    }
   ],
   "source": [
    "df6=df.groupby(('Name'),as_index=False)['Value'].last()\n",
    "print('\\n group and display by last:\\n',df6)"
   ]
  },
  {
   "cell_type": "code",
   "execution_count": 25,
   "id": "e4bfaaac",
   "metadata": {},
   "outputs": [
    {
     "name": "stdout",
     "output_type": "stream",
     "text": [
      "\n",
      " group and display by first:\n",
      "         Category  Value  Score\n",
      "Name                          \n",
      "Alice          A      1     67\n",
      "Bob            B      2     81\n",
      "Charlie        C      3     95\n"
     ]
    }
   ],
   "source": [
    "df5=df.groupby(('Name')).last()\n",
    "print('\\n group and display by last:\\n',df5)"
   ]
  },
  {
   "cell_type": "code",
   "execution_count": 26,
   "id": "4782d16e",
   "metadata": {},
   "outputs": [
    {
     "name": "stdout",
     "output_type": "stream",
     "text": [
      "\n",
      " group and display by first:\n",
      "       Name  size\n",
      "0    Alice     2\n",
      "1      Bob     2\n",
      "2  Charlie     2\n"
     ]
    }
   ],
   "source": [
    "df6=df.groupby(('Name'),as_index=False)['Value'].size()\n",
    "print('\\n group and display by first:\\n',df6)"
   ]
  },
  {
   "cell_type": "code",
   "execution_count": 27,
   "id": "b5c1d63e",
   "metadata": {},
   "outputs": [
    {
     "name": "stdout",
     "output_type": "stream",
     "text": [
      "\n",
      " group and display by first:\n",
      " Name\n",
      "Alice      2\n",
      "Bob        2\n",
      "Charlie    2\n",
      "dtype: int64\n"
     ]
    }
   ],
   "source": [
    "df5=df.groupby(('Name')).size()\n",
    "print('\\n group and display by first:\\n',df5)"
   ]
  },
  {
   "cell_type": "code",
   "execution_count": null,
   "id": "911b005e",
   "metadata": {},
   "outputs": [],
   "source": []
  }
 ],
 "metadata": {
  "kernelspec": {
   "display_name": "Python 3 (ipykernel)",
   "language": "python",
   "name": "python3"
  },
  "language_info": {
   "codemirror_mode": {
    "name": "ipython",
    "version": 3
   },
   "file_extension": ".py",
   "mimetype": "text/x-python",
   "name": "python",
   "nbconvert_exporter": "python",
   "pygments_lexer": "ipython3",
   "version": "3.11.5"
  }
 },
 "nbformat": 4,
 "nbformat_minor": 5
}
